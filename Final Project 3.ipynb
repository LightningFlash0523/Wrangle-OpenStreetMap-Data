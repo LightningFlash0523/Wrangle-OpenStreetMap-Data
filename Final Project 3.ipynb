{
 "cells": [
  {
   "cell_type": "code",
   "execution_count": 1,
   "metadata": {
    "collapsed": false
   },
   "outputs": [],
   "source": [
    "import csv\n",
    "import codecs\n",
    "import re\n",
    "import xml.etree.cElementTree as ET\n",
    "import cerberus\n",
    "import schema"
   ]
  },
  {
   "cell_type": "code",
   "execution_count": 2,
   "metadata": {
    "collapsed": false
   },
   "outputs": [],
   "source": [
    "OSM_PATH = \"honolulu_hawaii.osm\"\n",
    "NODES_PATH = \"nodes.csv\"\n",
    "NODE_TAGS_PATH = \"nodes_tags.csv\"\n",
    "WAYS_PATH = \"ways.csv\"\n",
    "WAY_NODES_PATH = \"ways_nodes.csv\"\n",
    "WAY_TAGS_PATH = \"ways_tags.csv\"\n",
    "LOWER_COLON = re.compile(r'^([a-z]|_)+:([a-z]|_)+')\n",
    "PROBLEMCHARS = re.compile(r'[=\\+/&<>;\\'\"\\?%#$@\\,\\. \\t\\r\\n]')\n",
    "SCHEMA = schema.schema"
   ]
  },
  {
   "cell_type": "code",
   "execution_count": 3,
   "metadata": {
    "collapsed": true
   },
   "outputs": [],
   "source": [
    "# Make sure the fields order in the csvs matches the column order in the sql table schema\n",
    "NODE_FIELDS = ['id', 'lat', 'lon', 'user', 'uid', 'version', 'changeset', 'timestamp']\n",
    "NODE_TAGS_FIELDS = ['id', 'key', 'value', 'type']\n",
    "WAY_FIELDS = ['id', 'user', 'uid', 'version', 'changeset', 'timestamp']\n",
    "WAY_TAGS_FIELDS = ['id', 'key', 'value', 'type']\n",
    "WAY_NODES_FIELDS = ['id', 'node_id', 'position']\n",
    "street_type_re = re.compile(r'\\b\\S+\\.?$', re.IGNORECASE)"
   ]
  },
  {
   "cell_type": "code",
   "execution_count": 4,
   "metadata": {
    "collapsed": true
   },
   "outputs": [],
   "source": [
    "# This is the list of acceptable street names\n",
    "expected = [\"106\", \"Avenue\", \"Boulevard\", \"Center\", \"Circle\", \"Drive\", \"Highway\", \"Ike\",\n",
    "            \"Lane\", \"Loop\", \"Mall\", \"Parkway\", \"Place\", \"Road\", \"Street\", \"Walk\", \"Way\", \n",
    "            \"Honolulu\", \"Kailua\", \"King\", \"Momi\", \"Terrace\"]"
   ]
  },
  {
   "cell_type": "code",
   "execution_count": 5,
   "metadata": {
    "collapsed": false
   },
   "outputs": [],
   "source": [
    "# the keys of this mapping was obtained from checking unique keys\n",
    "# in the csv files resulted from the provided data.py\n",
    "mapping = { \"St\": \"Street\",\n",
    "            \"St.\": \"Street\",\n",
    "            \"Rd.\": \"Road\",\n",
    "            \"Ave\": \"Avenue\",\n",
    "            \"Blvd\": \"Boulevard\",\n",
    "            \"Dr\": \"Drive\",\n",
    "            \"Hwy\": \"Highway\",\n",
    "            \"Pkwy\": \"Parkway\"\n",
    "            }"
   ]
  },
  {
   "cell_type": "code",
   "execution_count": 6,
   "metadata": {
    "collapsed": true
   },
   "outputs": [],
   "source": [
    "# this function will set the street name to an acceptable street name\n",
    "def update_name(name, mapping):    \n",
    "    badname = street_type_re.search(name).group()\n",
    "    pos = name.find(badname)    \n",
    "    if badname in mapping:\n",
    "        goodname = mapping[badname]\n",
    "        name = name[:pos]+goodname\n",
    "    return name"
   ]
  },
  {
   "cell_type": "code",
   "execution_count": 7,
   "metadata": {
    "collapsed": true
   },
   "outputs": [],
   "source": [
    "# this function will set the postalcode values to the standard/acceptable values\n",
    "def update_postalcode(num):\n",
    "    num = re.findall('[0-9]+',num)[0]\n",
    "    return num"
   ]
  },
  {
   "cell_type": "code",
   "execution_count": 8,
   "metadata": {
    "collapsed": false
   },
   "outputs": [],
   "source": [
    "def shape_element(element, node_attr_fields=NODE_FIELDS, way_attr_fields=WAY_FIELDS,\n",
    "                  problem_chars=PROBLEMCHARS, default_tag_type='regular'):\n",
    "    \"\"\"Clean and shape node or way XML element to Python dict\"\"\"\n",
    "    node_attribs = {}\n",
    "    way_attribs = {}\n",
    "    way_nodes = []\n",
    "    tags = []  # Handle secondary tags the same way for both node and way elements\n",
    "\n",
    "    if element.tag == 'node':\n",
    "        for node in NODE_FIELDS:\n",
    "            node_attribs[node] = element.attrib[node]\n",
    "        for child in element:\n",
    "            \n",
    "            problem = PROBLEMCHARS.search(child.attrib['k'])\n",
    "            match = LOWER_COLON.search(child.attrib['k'])\n",
    "            \n",
    "            if problem:\n",
    "                continue\n",
    "            else:\n",
    "                subtag = {}\n",
    "                subtag['id'] = element.attrib['id']\n",
    "                subtag['value'] = child.attrib['v']   \n",
    "                if match:\n",
    "                    pos = child.attrib['k'].find(':')\n",
    "                    subtag['key'] = child.attrib['k'][pos + 1 :]\n",
    "                    subtag['type'] = child.attrib['k'][:pos]\n",
    "                else:\n",
    "                    pos = child.attrib['k'].find(':')\n",
    "                    subtag['key'] = child.attrib['k']\n",
    "                    subtag['type'] = 'regular'        \n",
    "                \n",
    "                if subtag['key'] == \"street\":\n",
    "                    subtag['value'] = update_name(subtag['value'], mapping)                \n",
    "\n",
    "                if subtag['key'] == \"postcode\" or subtag['key'] == \"postal_code\":\n",
    "                    subtag['value'] = update_postalcode(subtag['value'])            \n",
    "                \n",
    "                tags.append(subtag)\n",
    "\n",
    "        return {'node': node_attribs, 'node_tags': tags}\n",
    "    \n",
    "    elif element.tag == 'way':\n",
    "        for way in WAY_FIELDS:\n",
    "            way_attribs[way] = element.attrib[way]\n",
    "        count = -1\n",
    "        for child in element:\n",
    "            way_ref = {}\n",
    "            if child.tag == 'nd':\n",
    "                count += 1\n",
    "                way_ref['id'] = element.attrib['id']\n",
    "                way_ref['node_id'] = child.attrib['ref']\n",
    "                way_ref['position'] = count\n",
    "                way_nodes.append(way_ref)\n",
    "            else:\n",
    "                problem = PROBLEMCHARS.search(child.attrib['k'])\n",
    "                match = LOWER_COLON.search(child.attrib['k'])\n",
    "            \n",
    "                if problem:\n",
    "                    continue\n",
    "                else:\n",
    "                    subtag = {}\n",
    "                    subtag['id'] = element.attrib['id']\n",
    "                    subtag['value'] = child.attrib['v']   \n",
    "                    if match:\n",
    "                        pos = child.attrib['k'].find(':')\n",
    "                        subtag['key'] = child.attrib['k'][pos + 1 :]\n",
    "                        subtag['type'] = child.attrib['k'][:pos]\n",
    "                    else:\n",
    "                        pos = child.attrib['k'].find(':')\n",
    "                        subtag['key'] = child.attrib['k']\n",
    "                        subtag['type'] = 'regular'     \n",
    "                    \n",
    "                    \n",
    "                    if subtag['key'] == \"street\":\n",
    "                        subtag['value'] = update_name(subtag['value'], mapping)  \n",
    "\n",
    "                    if subtag['key'] == \"postcode\" or subtag['key'] == \"postal_code\":\n",
    "                        subtag['value'] = update_postalcode(subtag['value'])\n",
    "                    tags.append(subtag)\n",
    "                \n",
    "        return {'way': way_attribs, 'way_nodes': way_nodes, 'way_tags': tags}"
   ]
  },
  {
   "cell_type": "markdown",
   "metadata": {},
   "source": [
    "# ================================================== #\n",
    "#               Helper Functions                     #\n",
    "# ================================================== #"
   ]
  },
  {
   "cell_type": "code",
   "execution_count": 9,
   "metadata": {
    "collapsed": true
   },
   "outputs": [],
   "source": [
    "def get_element(osm_file, tags=('node', 'way', 'relation')):\n",
    "    \"\"\"Yield element if it is the right type of tag\"\"\"\n",
    "\n",
    "    context = ET.iterparse(osm_file, events=('start', 'end'))\n",
    "    _, root = next(context)\n",
    "    for event, elem in context:\n",
    "        if event == 'end' and elem.tag in tags:\n",
    "            yield elem\n",
    "            root.clear()"
   ]
  },
  {
   "cell_type": "code",
   "execution_count": 10,
   "metadata": {
    "collapsed": true
   },
   "outputs": [],
   "source": [
    "def validate_element(element, validator, schema=SCHEMA):\n",
    "    \"\"\"Raise ValidationError if element does not match schema\"\"\"\n",
    "    if validator.validate(element, schema) is not True:\n",
    "        field, errors = next(validator.errors.iteritems())\n",
    "        message_string = \"\\nElement of type '{0}' has the following errors:\\n{1}\"\n",
    "        error_strings = (\n",
    "            \"{0}: {1}\".format(k, v if isinstance(v, str) else \", \".join(v))\n",
    "            for k, v in errors.iteritems()\n",
    "        )\n",
    "        raise cerberus.ValidationError(\n",
    "            message_string.format(field, \"\\n\".join(error_strings))\n",
    "        )"
   ]
  },
  {
   "cell_type": "code",
   "execution_count": 11,
   "metadata": {
    "collapsed": true
   },
   "outputs": [],
   "source": [
    "class UnicodeDictWriter(csv.DictWriter, object):\n",
    "    \"\"\"Extend csv.DictWriter to handle Unicode input\"\"\"\n",
    "\n",
    "    def writerow(self, row):\n",
    "        super(UnicodeDictWriter, self).writerow({\n",
    "            k: (v.encode('utf-8') if isinstance(v, unicode) else v) for k, v in row.iteritems()\n",
    "        })\n",
    "\n",
    "    def writerows(self, rows):\n",
    "        for row in rows:\n",
    "            self.writerow(row)"
   ]
  },
  {
   "cell_type": "markdown",
   "metadata": {},
   "source": [
    "# ================================================== #\n",
    "#               Main Function                        #\n",
    "# ================================================== #"
   ]
  },
  {
   "cell_type": "code",
   "execution_count": 12,
   "metadata": {
    "collapsed": true
   },
   "outputs": [],
   "source": [
    "def process_map(file_in, validate):\n",
    "    \"\"\"Iteratively process each XML element and write to csv(s)\"\"\"\n",
    "\n",
    "    with codecs.open(NODES_PATH, 'w') as nodes_file, \\\n",
    "         codecs.open(NODE_TAGS_PATH, 'w') as nodes_tags_file, \\\n",
    "         codecs.open(WAYS_PATH, 'w') as ways_file, \\\n",
    "         codecs.open(WAY_NODES_PATH, 'w') as way_nodes_file, \\\n",
    "         codecs.open(WAY_TAGS_PATH, 'w') as way_tags_file:\n",
    "\n",
    "        nodes_writer = UnicodeDictWriter(nodes_file, NODE_FIELDS,lineterminator='\\n')\n",
    "        node_tags_writer = UnicodeDictWriter(nodes_tags_file, NODE_TAGS_FIELDS,lineterminator='\\n')\n",
    "        ways_writer = UnicodeDictWriter(ways_file, WAY_FIELDS,lineterminator='\\n')\n",
    "        way_nodes_writer = UnicodeDictWriter(way_nodes_file, WAY_NODES_FIELDS,lineterminator='\\n')\n",
    "        way_tags_writer = UnicodeDictWriter(way_tags_file, WAY_TAGS_FIELDS,lineterminator='\\n')\n",
    "\n",
    "        nodes_writer.writeheader()\n",
    "        node_tags_writer.writeheader()\n",
    "        ways_writer.writeheader()\n",
    "        way_nodes_writer.writeheader()\n",
    "        way_tags_writer.writeheader()\n",
    "\n",
    "        validator = cerberus.Validator()\n",
    "\n",
    "        for element in get_element(file_in, tags=('node', 'way')):\n",
    "            el = shape_element(element)\n",
    "            if el:\n",
    "                if validate is True:\n",
    "                    validate_element(el, validator)\n",
    "\n",
    "                if element.tag == 'node':\n",
    "                    nodes_writer.writerow(el['node'])\n",
    "                    node_tags_writer.writerows(el['node_tags'])\n",
    "                elif element.tag == 'way':\n",
    "                    ways_writer.writerow(el['way'])\n",
    "                    way_nodes_writer.writerows(el['way_nodes'])\n",
    "                    way_tags_writer.writerows(el['way_tags'])"
   ]
  },
  {
   "cell_type": "code",
   "execution_count": 13,
   "metadata": {
    "collapsed": false
   },
   "outputs": [],
   "source": [
    "#start of program\n",
    "process_map(OSM_PATH, validate=True)"
   ]
  },
  {
   "cell_type": "code",
   "execution_count": null,
   "metadata": {
    "collapsed": true
   },
   "outputs": [],
   "source": []
  }
 ],
 "metadata": {
  "anaconda-cloud": {},
  "kernelspec": {
   "display_name": "Python [conda root]",
   "language": "python",
   "name": "conda-root-py"
  },
  "language_info": {
   "codemirror_mode": {
    "name": "ipython",
    "version": 2
   },
   "file_extension": ".py",
   "mimetype": "text/x-python",
   "name": "python",
   "nbconvert_exporter": "python",
   "pygments_lexer": "ipython2",
   "version": "2.7.12"
  }
 },
 "nbformat": 4,
 "nbformat_minor": 1
}
